{
 "cells": [
  {
   "cell_type": "code",
   "execution_count": 1,
   "metadata": {
    "Collapsed": "false"
   },
   "outputs": [
    {
     "data": {
      "text/plain": [
       "'/Users/sinayoks/dev/notebooks/little-book-of-semaphores'"
      ]
     },
     "execution_count": 1,
     "metadata": {},
     "output_type": "execute_result"
    }
   ],
   "source": [
    "pwd"
   ]
  },
  {
   "cell_type": "code",
   "execution_count": 2,
   "metadata": {
    "Collapsed": "false"
   },
   "outputs": [],
   "source": [
    "\n",
    "#!mv /Users/sinayoks/Desktop/Screen\\ Shot\\ 2020-06-27\\ at\\ 14.49.39.png sync_app.png"
   ]
  },
  {
   "cell_type": "markdown",
   "metadata": {
    "Collapsed": "false"
   },
   "source": [
    "# The Little Book of Semaphores\n",
    "\n",
    "Working through my own implementations of concurrency and synchronization problems from the [Little Book of Semaphores](http://greenteapress.com/semaphores/LittleBookOfSemaphores.pdf) by A. B. Downey.\n",
    "\n",
    "**Asyncio solutions in notebook**\n",
    "\n",
    "We will implement examples using asyncio. \n",
    "\n",
    "**Reference solutions using Sync GUI app**\n",
    "\n",
    "Solutions are also available from https://github.com/AllenDowney/LittleBookOfSemaphores/tree/master/code/sync_code and can be run using the Sync program provided in that repository:\n",
    "```\n",
    "git clone git@github.com:AllenDowney/LittleBookOfSemaphores.git\n",
    "cd LittleBookOfSemaphores/code\n",
    "python Sync.py sync_code/signal.py\n",
    "```\n",
    "![signalling problem using Downey's Sync app](sync_app.png)\n",
    "```\n",
    "\n",
    "```"
   ]
  },
  {
   "cell_type": "code",
   "execution_count": 3,
   "metadata": {
    "Collapsed": "false"
   },
   "outputs": [],
   "source": [
    "import asyncio\n",
    "from IPython.core.debugger import set_trace"
   ]
  },
  {
   "cell_type": "code",
   "execution_count": 4,
   "metadata": {
    "Collapsed": "false"
   },
   "outputs": [],
   "source": [
    "async def run_test(test_coroutine, attempts):\n",
    "    \"\"\"Run a test multiple times to make sure we don't get lucky.\"\"\"\n",
    "    [await test_coroutine(attempt) for attempt in range(attempts)]"
   ]
  },
  {
   "cell_type": "markdown",
   "metadata": {
    "Collapsed": "false"
   },
   "source": [
    "## Basic patterns"
   ]
  },
  {
   "cell_type": "markdown",
   "metadata": {
    "Collapsed": "false"
   },
   "source": [
    "### Signaling\n",
    "**Signaling problem**\n",
    "2 threads/coroutines having to coordinate to do an action in a particular order."
   ]
  },
  {
   "cell_type": "code",
   "execution_count": 23,
   "metadata": {
    "Collapsed": "false"
   },
   "outputs": [],
   "source": [
    "async def test_signaling(attempt):\n",
    "    \"\"\"Check the signaling approach serialises the threads so that actionA \n",
    "    takes place before actionB. \n",
    "    \n",
    "    Push a value from coroutines A then one from coroutine B into a shared queue, \n",
    "    and make sure they've been pushed in that order. \n",
    "    \"\"\"\n",
    "    # Not using a Lock here because we want to signal/release before waiting/acquiring \n",
    "    # so we need a semaphore. \n",
    "    first_action_done = asyncio.Semaphore(0)\n",
    "    queue = asyncio.Queue()\n",
    "    \n",
    "    async def push(value):\n",
    "        await queue.put(value)\n",
    "\n",
    "    async def coroutineA():\n",
    "        \"\"\"Do first action then signal to B that we're done\"\"\"\n",
    "        asyncio.Task.current_task().name = \"coroutineA\"\n",
    "        await push('A')\n",
    "        first_action_done.release()\n",
    "\n",
    "    async def coroutineB():\n",
    "        asyncio.Task.current_task().name = \"coroutineB\"\n",
    "        async with first_action_done:\n",
    "            res = await push('B')\n",
    "\n",
    "\n",
    "    await asyncio.gather(coroutineA(), coroutineB())\n",
    "    res = [await queue.get() for _ in range(queue.qsize())]\n",
    "    assert res == ['A', 'B'], f'Test failed for attempt {attempt}: got {res}'"
   ]
  },
  {
   "cell_type": "code",
   "execution_count": 22,
   "metadata": {
    "Collapsed": "false"
   },
   "outputs": [],
   "source": [
    "await run_test(test_signaling, 100)"
   ]
  },
  {
   "cell_type": "markdown",
   "metadata": {
    "Collapsed": "false"
   },
   "source": [
    "### Rendez Vous\n",
    "Two threads must await each other before doing some action. "
   ]
  },
  {
   "cell_type": "code",
   "execution_count": 29,
   "metadata": {
    "Collapsed": "false"
   },
   "outputs": [],
   "source": [
    "async def test_rendez_vous(attempt):\n",
    "    \"\"\"Make sure action doesn't happen before a rendez vous. \n",
    "    \n",
    "    In this test, the action is reading the key value pairs from a shared dictionary. \n",
    "    Each of the two coroutines adds a key-value pair to the dictionary before the rendez vous. \n",
    "    So if both coroutines have waited for the other one successfully, they should both \n",
    "    return the two same (key,value) pairs. \n",
    "    \"\"\"\n",
    "    b_has_arrived = asyncio.Semaphore(0)\n",
    "    a_has_arrived = asyncio.Semaphore(0)\n",
    "    shared_dict = {}\n",
    "    lock = asyncio.Lock()  # a lock to protect updating the dictionary\n",
    "    \n",
    "    async def read_items_from_dict():\n",
    "        \"\"\"Return tuple of (key, value) pairs giving the items in the dictionary.\"\"\"\n",
    "        async with lock:\n",
    "            res = tuple(sorted(shared_dict.items()))\n",
    "        return res \n",
    "\n",
    "    async def coroutineA(key, value):\n",
    "        \"\"\"Store key value pair in shared dictionary, wait for rendez vous with B, \n",
    "        then read all key value pairs from dictionary. \n",
    "        \"\"\"\n",
    "        a_has_arrived.release()\n",
    "        # put in a value in the queue\n",
    "        async with lock:\n",
    "              shared_dict[key] = value\n",
    "        await b_has_arrived.acquire()\n",
    "        res = await read_items_from_dict()\n",
    "        return res\n",
    "\n",
    "    async def coroutineB(key, value):\n",
    "        \"\"\"Store key value pair in shared dictionary, wait for rendez vous with A, \n",
    "        then read all key value pairs from dictionary. \n",
    "        \"\"\"\n",
    "        b_has_arrived.release()\n",
    "        async with lock:\n",
    "              shared_dict[key] = value\n",
    "        await a_has_arrived.acquire()\n",
    "        res = await read_items_from_dict()\n",
    "        return res\n",
    "\n",
    "    itemsA, itemsB = await asyncio.gather(\n",
    "        coroutineA('A', 1), \n",
    "        coroutineB('B', 2)\n",
    "    )\n",
    "    expected_items = ('A', 1), ('B', 2)\n",
    "    results = {k:v for k,v in locals().items() if k in ['itemsA', 'itemsB', 'expected_items']}\n",
    "    assert itemsA == itemsB == expected_items, results"
   ]
  },
  {
   "cell_type": "code",
   "execution_count": 30,
   "metadata": {
    "Collapsed": "false"
   },
   "outputs": [],
   "source": [
    "await run_test(test_rendez_vous, 10)"
   ]
  },
  {
   "cell_type": "code",
   "execution_count": null,
   "metadata": {
    "Collapsed": "false"
   },
   "outputs": [],
   "source": []
  }
 ],
 "metadata": {
  "kernelspec": {
   "display_name": "Python 3",
   "language": "python",
   "name": "python3"
  },
  "language_info": {
   "codemirror_mode": {
    "name": "ipython",
    "version": 3
   },
   "file_extension": ".py",
   "mimetype": "text/x-python",
   "name": "python",
   "nbconvert_exporter": "python",
   "pygments_lexer": "ipython3",
   "version": "3.6.10"
  }
 },
 "nbformat": 4,
 "nbformat_minor": 4
}
