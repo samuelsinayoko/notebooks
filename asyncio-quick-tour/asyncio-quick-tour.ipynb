{
 "cells": [
  {
   "cell_type": "markdown",
   "metadata": {
    "Collapsed": "false"
   },
   "source": [
    "# Intro\n",
    "Author: Sam Sinayoko\n",
    "\n",
    "Date: 2020-06-20"
   ]
  },
  {
   "cell_type": "markdown",
   "metadata": {
    "Collapsed": "false"
   },
   "source": [
    "\n",
    "A 2 part tour of asyncio. The first part is a quick overview of how asyncio helps solve IO bound problems using asynchronous IO via the async/await API. Uses \n",
    "- `async def`\n",
    "- `await`\n",
    "- `asyncio.wait`\n",
    "- `loop.get_event_loop`\n",
    "\n",
    "I'm a fan of `concurrent.futures` pool executors, and was wondering how to run a pool of tasks with asyncio. I'm showing how to do this with `asyncio.wait` and I roll my own little async AsyncPoolExecutor. I also look the built-in `loop.run_in_executor`, which let's you do essentially the same but for blocking functions.\n",
    "\n",
    "In part 2, I dive under the covers and work through the asyncio jargon like `Futures`, `Task`, `Coroutines`, and how they relate to generators and `yield from`. "
   ]
  },
  {
   "cell_type": "markdown",
   "metadata": {
    "Collapsed": "false"
   },
   "source": [
    "# Part1: Asyncio Quick Tour \n",
    "\n",
    "A Quick Tour of Asyncio of async await and how it provides an alternative way to to deal with concurrency compared to threads. "
   ]
  },
  {
   "cell_type": "markdown",
   "metadata": {
    "Collapsed": "false"
   },
   "source": [
    "## The non-asyncio approach using threads\n",
    "Let's speedup a simple IO bound problem using threads. "
   ]
  },
  {
   "cell_type": "code",
   "execution_count": null,
   "metadata": {
    "Collapsed": "false"
   },
   "outputs": [],
   "source": [
    "import time\n",
    "import asyncio\n",
    "from concurrent.futures import ThreadPoolExecutor"
   ]
  },
  {
   "cell_type": "code",
   "execution_count": 2,
   "metadata": {
    "Collapsed": "false"
   },
   "outputs": [],
   "source": [
    "from contextlib import contextmanager"
   ]
  },
  {
   "cell_type": "code",
   "execution_count": 3,
   "metadata": {
    "Collapsed": "false"
   },
   "outputs": [],
   "source": [
    "def slow(x):\n",
    "    print(x)\n",
    "    time.sleep(0.05)\n",
    "    return x\n",
    "\n",
    "def main_synchronous():\n",
    "    res = []\n",
    "    for i in range(10):\n",
    "        res.append(slow(i))\n",
    "    return res"
   ]
  },
  {
   "cell_type": "code",
   "execution_count": 4,
   "metadata": {
    "Collapsed": "false"
   },
   "outputs": [
    {
     "name": "stdout",
     "output_type": "stream",
     "text": [
      "0\n",
      "1\n",
      "2\n",
      "3\n",
      "4\n",
      "5\n",
      "6\n",
      "7\n",
      "8\n",
      "9\n",
      "CPU times: user 5.53 ms, sys: 3.07 ms, total: 8.6 ms\n",
      "Wall time: 530 ms\n"
     ]
    },
    {
     "data": {
      "text/plain": [
       "[0, 1, 2, 3, 4, 5, 6, 7, 8, 9]"
      ]
     },
     "execution_count": 4,
     "metadata": {},
     "output_type": "execute_result"
    }
   ],
   "source": [
    "%time main_synchronous()"
   ]
  },
  {
   "cell_type": "code",
   "execution_count": 5,
   "metadata": {
    "Collapsed": "false"
   },
   "outputs": [],
   "source": [
    "def main_threads():\n",
    "    with ThreadPoolExecutor(10) as pool:\n",
    "        res = list(pool.map(slow, range(10)))\n",
    "    return res"
   ]
  },
  {
   "cell_type": "code",
   "execution_count": 6,
   "metadata": {
    "Collapsed": "false"
   },
   "outputs": [
    {
     "name": "stdout",
     "output_type": "stream",
     "text": [
      "0\n",
      "1\n",
      "23\n",
      "\n",
      "4\n",
      "5\n",
      "6\n",
      "78\n",
      "\n",
      "9\n",
      "CPU times: user 6.39 ms, sys: 4.99 ms, total: 11.4 ms\n",
      "Wall time: 57.4 ms\n"
     ]
    },
    {
     "data": {
      "text/plain": [
       "[0, 1, 2, 3, 4, 5, 6, 7, 8, 9]"
      ]
     },
     "execution_count": 6,
     "metadata": {},
     "output_type": "execute_result"
    }
   ],
   "source": [
    "%time main_threads()"
   ]
  },
  {
   "cell_type": "markdown",
   "metadata": {
    "Collapsed": "false"
   },
   "source": [
    "## The asyncio approach\n",
    "Let's solve the same problem using async/await. The main idea is to define asyncio compatible asynchronous functions using `async def`, where such functions must at some point `await` from another asynchronous function. The simplest example of asynchronous function is probably `asyncio.sleep`, so let's use that. \n",
    "To call an asyncronous function, one must also `await` it.\n",
    "\n",
    "The asyncio compatible asynchronous functions are called coroutines. \n",
    "\n",
    "Outside of Jupyter, call `loop = asyncio.get_event_loop; loop.run_until_complete(coroutine)` to trigger the execution. "
   ]
  },
  {
   "cell_type": "markdown",
   "metadata": {
    "Collapsed": "false"
   },
   "source": [
    "### Full on concurrency with `asyncio.wait`. \n",
    "We put the coroutines we want to execute concurrently in a list, then await `asyncio.wait` to fire all coroutines. "
   ]
  },
  {
   "cell_type": "code",
   "execution_count": 7,
   "metadata": {
    "Collapsed": "false"
   },
   "outputs": [],
   "source": [
    "async def slow_async(x):\n",
    "    print(x)\n",
    "    import random\n",
    "    s = random.random()\n",
    "    await asyncio.sleep(s)\n",
    "    return x\n",
    "\n",
    "async def main_async_nolimit():\n",
    "    \"\"\"Fire all tasks at once\"\"\"\n",
    "    t0 = time.perf_counter()\n",
    "    done, pending = await asyncio.wait([slow_async(i) for i in range(10)], timeout=5)\n",
    "    res = [task.result() for task in done]\n",
    "    t1 = time.perf_counter()\n",
    "    print(t1 - t0)\n",
    "    return res"
   ]
  },
  {
   "cell_type": "code",
   "execution_count": 8,
   "metadata": {
    "Collapsed": "false"
   },
   "outputs": [
    {
     "name": "stdout",
     "output_type": "stream",
     "text": [
      "5\n",
      "3\n",
      "1\n",
      "4\n",
      "6\n",
      "0\n",
      "2\n",
      "9\n",
      "8\n",
      "7\n",
      "0.9748185430653393\n"
     ]
    },
    {
     "data": {
      "text/plain": [
       "[9, 1, 6, 4, 8, 0, 5, 7, 3, 2]"
      ]
     },
     "execution_count": 8,
     "metadata": {},
     "output_type": "execute_result"
    }
   ],
   "source": [
    "await main_async_nolimit()"
   ]
  },
  {
   "cell_type": "markdown",
   "metadata": {
    "Collapsed": "false"
   },
   "source": [
    "The downside of the above approach is that it gives little control over the amount of concurrency: all concurrent tasks at fired at once. Let's see how we can control that better. "
   ]
  },
  {
   "cell_type": "markdown",
   "metadata": {
    "Collapsed": "false"
   },
   "source": [
    "### Controlled concurrency with a pool of coroutines\n",
    "We can limit the number of concurrent tasks by hand via the `return_when='FIRST_COMPLETED'` parameter of `asyncio.wait`. We'll set up a fixed size queue of coroutines and will only push extra coroutines into that queue as it starts emptying. "
   ]
  },
  {
   "cell_type": "code",
   "execution_count": 9,
   "metadata": {
    "Collapsed": "false"
   },
   "outputs": [
    {
     "name": "stdout",
     "output_type": "stream",
     "text": [
      "7\n",
      "8\n",
      "9\n",
      "6\n",
      "5\n",
      "4\n",
      "3\n",
      "2\n",
      "1\n",
      "0\n",
      "1.707174857147038\n"
     ]
    },
    {
     "data": {
      "text/plain": [
       "[0, 8, 5, 9, 7, 2, 4, 6]"
      ]
     },
     "execution_count": 9,
     "metadata": {},
     "output_type": "execute_result"
    }
   ],
   "source": [
    "async def main_async_pool1(max_workers=None, N=10):\n",
    "    \"\"\"Limits the number of concurerent tasks\"\"\"\n",
    "    \n",
    "    if max_workers is None:\n",
    "        max_workers = N\n",
    "    t0 = time.perf_counter()\n",
    "    tasks = [slow_async(i) for i in range(10)]\n",
    "    pending = set()\n",
    "    all_done = set()\n",
    "    while tasks:\n",
    "        #print('len(tasks) = {}, len(queue) = {}'.format(len(tasks), len(queue)))\n",
    "        while True:\n",
    "            if tasks and len(pending) < max_workers:\n",
    "                #print('pushing 1 tasks')\n",
    "                pending.add(tasks.pop())\n",
    "            else:\n",
    "                break\n",
    "        if pending:\n",
    "            done, pending = await asyncio.wait(pending, return_when='FIRST_COMPLETED')  \n",
    "            #return {'done': done, 'pending': pending}\n",
    "            all_done.update(done)\n",
    "    res = [task.result() for task in all_done]\n",
    "    t1 = time.perf_counter()\n",
    "    print(t1 - t0)\n",
    "    return res\n",
    "\n",
    "await main_async_pool1(3)"
   ]
  },
  {
   "cell_type": "markdown",
   "metadata": {
    "Collapsed": "false"
   },
   "source": [
    "**better version using contextmanager**"
   ]
  },
  {
   "cell_type": "markdown",
   "metadata": {
    "Collapsed": "false"
   },
   "source": [
    "We can wrap the above into an asynchronous Pool executor via a context manager similar to what's available in the concurrent.futures package, complete with a `map` method to run a function over an iterable asynchronously. \n"
   ]
  },
  {
   "cell_type": "code",
   "execution_count": 10,
   "metadata": {
    "Collapsed": "false"
   },
   "outputs": [],
   "source": [
    "class AsyncPoolExecutor:\n",
    "    \"\"\"Setting up an async Pool of executors with asyncio with an API similar to concurrent.futures\"\"\"\n",
    "    \n",
    "    def __init__(self, max_workers=None):\n",
    "        self.max_workers = max_workers\n",
    "        \n",
    "    def __enter__(self):\n",
    "        return self \n",
    "    \n",
    "    def __exit__(self, *args, **kwargs):\n",
    "        pass \n",
    "    \n",
    "    async def map(self, foo, iterable):\n",
    "        pending = set()\n",
    "        finished_tasks = set()\n",
    "        tasks = [foo(i) for i in iterable]\n",
    "        while tasks or pending:\n",
    "            #print('len(tasks) = {}, len(pending) = {}'.format(len(tasks), len(pending)))\n",
    "            while True:\n",
    "                if tasks and len(pending) < self.max_workers:\n",
    "                    #print('pushing 1 tasks')\n",
    "                    pending.add(tasks.pop())\n",
    "                else:\n",
    "                    break\n",
    "            done, pending = await asyncio.wait(pending, return_when='FIRST_COMPLETED')  \n",
    "            #return {'done': done, 'pending': pending}\n",
    "            finished_tasks.update(done)\n",
    "        #print('finished_tasks = ', finished_tasks)\n",
    "        return [task.result() for task in finished_tasks]\n",
    "    \n",
    "    \n",
    "async def main_async_pool2(max_workers=None, N=5):\n",
    "    \"\"\"Fire all tasks at once\"\"\"\n",
    "    \n",
    "    if max_workers is None:\n",
    "        max_workers = N\n",
    "    t0 = time.perf_counter()\n",
    "    res = []\n",
    "    with AsyncPoolExecutor(max_workers=max_workers) as pool:\n",
    "        res = await pool.map(slow_async, range(N))\n",
    "    t1 = time.perf_counter()\n",
    "    print(t1 - t0)\n",
    "    return res"
   ]
  },
  {
   "cell_type": "code",
   "execution_count": 11,
   "metadata": {
    "Collapsed": "false"
   },
   "outputs": [
    {
     "name": "stdout",
     "output_type": "stream",
     "text": [
      "3\n",
      "4\n",
      "1\n",
      "0\n",
      "2\n",
      "0.9532711869105697\n"
     ]
    },
    {
     "data": {
      "text/plain": [
       "[4, 3, 0, 1, 2]"
      ]
     },
     "execution_count": 11,
     "metadata": {},
     "output_type": "execute_result"
    }
   ],
   "source": [
    "await main_async_pool2()"
   ]
  },
  {
   "cell_type": "code",
   "execution_count": 12,
   "metadata": {
    "Collapsed": "false"
   },
   "outputs": [],
   "source": [
    "loop = asyncio.get_event_loop()"
   ]
  },
  {
   "cell_type": "markdown",
   "metadata": {
    "Collapsed": "false"
   },
   "source": [
    "### Controlled concurrency with a pool of synchronous functions\n",
    "Sometimes you don't control the code you'd like to use with asyncio. For example boto3 is synchronous, and you may not want to use some of the functionality without having to rewrite the whole library. For such cases, you can combine `asyncio` with a PoolExecutor from `concurrent.futures` to turn a blocking function into an ansynchronous one that can be awaited and is compatible with asyncio. \n",
    "\n",
    "The trick is to use`loop.run_in_executor`."
   ]
  },
  {
   "cell_type": "code",
   "execution_count": 13,
   "metadata": {
    "Collapsed": "false"
   },
   "outputs": [],
   "source": [
    "async def main_async_run_in_executor(max_workers=None, N=10):\n",
    "    \"\"\"This uses a pool of executors and a blocking function! Nice to wrap existing code\"\"\"\n",
    "    t0 = time.perf_counter()\n",
    "    res = []\n",
    "    with ThreadPoolExecutor(max_workers=max_workers) as pool:\n",
    "        loop = asyncio.get_event_loop()\n",
    "        # loop.run_in_executor runs blocking code is separate threads/processes to make it async\n",
    "        # note that ThreadPoolExecutor(max_workers=None) is actually the default, so we could set `pool` below \n",
    "        # to None and get that behaviour. \n",
    "        tasks = [loop.run_in_executor(pool, slow, i) for i in range(N)]\n",
    "        done, pending = await asyncio.wait(tasks)\n",
    "        res = [task.result() for task in done]\n",
    "    t1 = time.perf_counter()\n",
    "    print(t1 - t0)\n",
    "    return res"
   ]
  },
  {
   "cell_type": "code",
   "execution_count": 14,
   "metadata": {
    "Collapsed": "false"
   },
   "outputs": [
    {
     "name": "stdout",
     "output_type": "stream",
     "text": [
      "0\n",
      "1\n",
      "2\n",
      "3\n",
      "4\n",
      "56\n",
      "\n",
      "7\n",
      "89\n",
      "\n",
      "0.060840144054964185\n"
     ]
    },
    {
     "data": {
      "text/plain": [
       "[9, 0, 5, 4, 6, 1, 7, 2, 8, 3]"
      ]
     },
     "execution_count": 14,
     "metadata": {},
     "output_type": "execute_result"
    }
   ],
   "source": [
    "await main_async_run_in_executor()"
   ]
  },
  {
   "cell_type": "markdown",
   "metadata": {
    "Collapsed": "false"
   },
   "source": [
    "# Part 2: AsyncIO Under the Cover\n",
    "This is gonna explain some of the asyncio jargon, like Coroutines, Tasks and Futures, starting from Generators."
   ]
  },
  {
   "cell_type": "markdown",
   "metadata": {
    "Collapsed": "false"
   },
   "source": [
    "## Coroutine as generators\n",
    "Like a blank space representing a value that will be populated asynchronously at some point in the future. That blank space is the return value of the *coroutine function*. Somewhere in the definition of a *coroutine function*, there will be a point where the execution is suspended asynchronously while we wait for the completion of another coroutine. \n",
    "\n",
    "This mechanism is implemented via a the `yield from <some_generator>` operator, which suspends the execution until `<some_generator>` returns a value. "
   ]
  },
  {
   "cell_type": "code",
   "execution_count": 15,
   "metadata": {
    "Collapsed": "false"
   },
   "outputs": [],
   "source": [
    "def i_am_a_coroutine():\n",
    "    \"\"\"Must yield form another coroutine.\n",
    "    \n",
    "    Just using asyncio.sleep for now!\n",
    "    \"\"\"\n",
    "    yield  \n",
    "    return 'Coroutine says hi!'"
   ]
  },
  {
   "cell_type": "code",
   "execution_count": 16,
   "metadata": {
    "Collapsed": "false"
   },
   "outputs": [],
   "source": [
    "def coroutine_as_generator(coroutine_function): \n",
    "    \"\"\"Turn coroutine into generator: yield None while result isn't ready yet, else yield the result\"\"\"\n",
    "    coroutine = coroutine_function()\n",
    "    future = asyncio.ensure_future(coroutine)\n",
    "    while True:\n",
    "        if not future.done():\n",
    "            time.sleep(0.1)\n",
    "            # yielding nothing if future isn't completed\n",
    "            yield None\n",
    "        else:\n",
    "            # otherwise yielding the result\n",
    "            yield future.result()\n",
    "            break"
   ]
  },
  {
   "cell_type": "code",
   "execution_count": 17,
   "metadata": {
    "Collapsed": "false"
   },
   "outputs": [],
   "source": [
    "g = coroutine_as_generator(i_am_a_coroutine)"
   ]
  },
  {
   "cell_type": "code",
   "execution_count": 18,
   "metadata": {
    "Collapsed": "false"
   },
   "outputs": [
    {
     "name": "stdout",
     "output_type": "stream",
     "text": [
      "Result not ready yet. Please try again.\n"
     ]
    }
   ],
   "source": [
    "try:\n",
    "    res = next(g)  # keep executing this by hand until you get a result (or Stop Iteration)\n",
    "    if res is None:\n",
    "        print('Result not ready yet. Please try again.')\n",
    "except StopIteration:\n",
    "    pass\n",
    "if res is not None:\n",
    "    print(res)"
   ]
  },
  {
   "cell_type": "markdown",
   "metadata": {
    "Collapsed": "false"
   },
   "source": [
    "## Asyncio Coroutines\n",
    "Coroutines that are compatible with asyncio must yield from asynchronous objects like futures, tasks or other coroutines. \n",
    "Let's see how this works using the `asyncio.sleep` coroutine, which sleeps for 2 seconds asynchronously. \n",
    "\n",
    "Here we still use the old `yield from` like before to await the result from `asyncio.sleep`. We can start by using the same \"coroutine_as_generator\" function to run our coroutine.\n",
    "This demonstrates that there's no need for any additional magic to run asyncio coroutines. They're basically just generators. "
   ]
  },
  {
   "cell_type": "code",
   "execution_count": 19,
   "metadata": {
    "Collapsed": "false"
   },
   "outputs": [],
   "source": [
    "def coroutine():\n",
    "    print('Waiting 2 seconds')\n",
    "    yield from asyncio.sleep(2)\n",
    "    return 1"
   ]
  },
  {
   "cell_type": "code",
   "execution_count": 20,
   "metadata": {
    "Collapsed": "false"
   },
   "outputs": [],
   "source": [
    "g = coroutine_as_generator(coroutine)"
   ]
  },
  {
   "cell_type": "code",
   "execution_count": 21,
   "metadata": {
    "Collapsed": "false"
   },
   "outputs": [
    {
     "name": "stdout",
     "output_type": "stream",
     "text": [
      "Result not ready yet. Please try again.\n"
     ]
    }
   ],
   "source": [
    "# keep executing this cell by hand until you get a result \n",
    "try:\n",
    "    res = next(g)  \n",
    "    if res is None:\n",
    "        print('Result not ready yet. Please try again.')\n",
    "except StopIteration:\n",
    "    pass\n",
    "if res is not None:\n",
    "    print(res)"
   ]
  },
  {
   "cell_type": "code",
   "execution_count": null,
   "metadata": {
    "Collapsed": "false"
   },
   "outputs": [],
   "source": []
  },
  {
   "cell_type": "markdown",
   "metadata": {
    "Collapsed": "false"
   },
   "source": [
    "## Awaiting coroutines\n",
    "If we use the `asyncio.coroutine` decorator we can now await our coroutine. This automates the repeated calls to `next()` while we wait for the coroutine to complete its execution. "
   ]
  },
  {
   "cell_type": "code",
   "execution_count": 22,
   "metadata": {
    "Collapsed": "false"
   },
   "outputs": [
    {
     "name": "stdout",
     "output_type": "stream",
     "text": [
      "Waiting 2 seconds\n",
      "Waiting 2 seconds\n"
     ]
    },
    {
     "data": {
      "text/plain": [
       "1"
      ]
     },
     "execution_count": 22,
     "metadata": {},
     "output_type": "execute_result"
    }
   ],
   "source": [
    "awaitable_coroutine_function = asyncio.coroutine(coroutine)\n",
    "await awaitable_coroutine_function()"
   ]
  },
  {
   "cell_type": "markdown",
   "metadata": {
    "Collapsed": "false"
   },
   "source": [
    "So we could have written our coroutine as "
   ]
  },
  {
   "cell_type": "code",
   "execution_count": 23,
   "metadata": {
    "Collapsed": "false"
   },
   "outputs": [
    {
     "name": "stdout",
     "output_type": "stream",
     "text": [
      "Waiting 2 seconds\n"
     ]
    },
    {
     "data": {
      "text/plain": [
       "1"
      ]
     },
     "execution_count": 23,
     "metadata": {},
     "output_type": "execute_result"
    }
   ],
   "source": [
    "@asyncio.coroutine\n",
    "def coroutine_func():\n",
    "    print('Waiting 2 seconds')\n",
    "    yield from asyncio.sleep(2)\n",
    "    return 1\n",
    "\n",
    "await coroutine_func()"
   ]
  },
  {
   "cell_type": "markdown",
   "metadata": {
    "Collapsed": "false"
   },
   "source": [
    "## Async sugar\n",
    "Using the `@asyncio.coroutine` decorator is the old style way of defining coroutines. The new way is to use the `async def` keyword to define the coroutine function. The only difference with the previous example is we can no longer use `yield from`: `yield form` must be replaced by `await`. So we now have"
   ]
  },
  {
   "cell_type": "code",
   "execution_count": 24,
   "metadata": {
    "Collapsed": "false"
   },
   "outputs": [
    {
     "name": "stdout",
     "output_type": "stream",
     "text": [
      "Waiting 2 seconds\n"
     ]
    },
    {
     "data": {
      "text/plain": [
       "1"
      ]
     },
     "execution_count": 24,
     "metadata": {},
     "output_type": "execute_result"
    }
   ],
   "source": [
    "async def coroutine_func():\n",
    "    print('Waiting 2 seconds')\n",
    "    await asyncio.sleep(2)\n",
    "    return 1\n",
    "\n",
    "await coroutine_func()"
   ]
  },
  {
   "cell_type": "markdown",
   "metadata": {
    "Collapsed": "false"
   },
   "source": [
    "## Coroutine vs Coroutine Function\n",
    "\n",
    "Confusingly, calling a coroutine (function) defined via `async_def` & `await` (or `asyncio.coroutine` and `yield from`) returns a coroutine. This is similar to generators, where the term generator is used both to denote the `generator function`, and the output of the generator function. "
   ]
  },
  {
   "cell_type": "code",
   "execution_count": 25,
   "metadata": {
    "Collapsed": "false"
   },
   "outputs": [
    {
     "data": {
      "text/plain": [
       "<coroutine object async-def-wrapper.<locals>.coroutine_func at 0x10c4ac6d0>"
      ]
     },
     "execution_count": 25,
     "metadata": {},
     "output_type": "execute_result"
    }
   ],
   "source": [
    "coroutine_func()"
   ]
  },
  {
   "cell_type": "markdown",
   "metadata": {
    "Collapsed": "false"
   },
   "source": [
    "[From Python 3.6 documentation on coroutines](https://docs.python.org/3.6/library/asyncio-task.html?highlight=coroutine#coroutines)\n",
    "> The word “coroutine”, like the word “generator”, is used for two different (though related) concepts:\n",
    ">  - The function that defines a coroutine (a function definition using async def or decorated with @asyncio.coroutine). If disambiguation is needed we will call this a coroutine function (iscoroutinefunction() returns True).\n",
    ">  - The object obtained by calling a coroutine function. This object represents a computation or an I/O operation (usually a combination) that will complete eventually. If disambiguation is needed we will call it a coroutine object (iscoroutine() returns True).\n"
   ]
  },
  {
   "cell_type": "markdown",
   "metadata": {
    "Collapsed": "false"
   },
   "source": [
    "## Futures\n",
    "\n",
    "An object \"encapsulating the asynchronous execution of a callable\". The `asyncio.Future` class is very similar to the `concurrent.futures.Future` class. Makes it possible to represent an asynchronous execution and to pass it around. It's largely the same as a coroutine (not a *coroutine function*). The main difference is that it has a few more methods allowing to control the execution (if it's not completed yet):\n",
    "- futures can be cancelled by calling the `cancel` method\n",
    "- their status can be monitored via the `cancelled`, `running` and `done` methods"
   ]
  },
  {
   "cell_type": "code",
   "execution_count": 26,
   "metadata": {
    "Collapsed": "false"
   },
   "outputs": [],
   "source": [
    "async def my_name_is(future):\n",
    "    await asyncio.sleep(1)\n",
    "    print(f'(Is future {future} cancelled? {future.cancelled()})')\n",
    "    print(f'(Is future {future} done? {future.done()})')\n",
    "    future.set_result('Sam')\n",
    "\n",
    "async def whats_your_name():\n",
    "    print(\"What's your name mate?\")\n",
    "    future = asyncio.Future()\n",
    "    coroutine = my_name_is(future)\n",
    "    await coroutine\n",
    "    print(f'(Is future {future} done? {future.done()})')\n",
    "    print(f\"My name is {future.result()}\")\n",
    "    \n"
   ]
  },
  {
   "cell_type": "code",
   "execution_count": 27,
   "metadata": {
    "Collapsed": "false"
   },
   "outputs": [
    {
     "name": "stdout",
     "output_type": "stream",
     "text": [
      "What's your name mate?\n",
      "(Is future <Future pending> cancelled? False)\n",
      "(Is future <Future pending> done? False)\n",
      "(Is future <Future finished result='Sam'> done? True)\n",
      "My name is Sam\n"
     ]
    }
   ],
   "source": [
    "await whats_your_name()"
   ]
  },
  {
   "cell_type": "markdown",
   "metadata": {
    "Collapsed": "false"
   },
   "source": [
    "## Tasks\n",
    "[From the docs](https://docs.python.org/3/library/asyncio-task.html#asyncio.Task):\n",
    "\n",
    "> A Future-like object that runs a Python coroutine. Not thread-safe.\n",
    ">\n",
    "> Tasks are used to run coroutines in event loops. If a coroutine awaits on a Future, the Task suspends the execution of the coroutine and waits for the completion of the Future. When the Future is done, the execution of the wrapped coroutine resumes.\n",
    ">\n",
    "> Event loops use cooperative scheduling: an event loop runs one Task at a time. While a Task awaits for the completion of a Future, the event loop runs other Tasks, callbacks, or performs IO operations."
   ]
  },
  {
   "cell_type": "markdown",
   "metadata": {
    "Collapsed": "false"
   },
   "source": [
    "So this provides an alternative way to run a coroutine. The advantage over awaiting a coroutine is that tasks can be cancelled, or monitored just like futures. The difference with a future is that task is scheduled straight away. "
   ]
  },
  {
   "cell_type": "code",
   "execution_count": 28,
   "metadata": {
    "Collapsed": "false"
   },
   "outputs": [],
   "source": [
    "coroutine = whats_your_name()"
   ]
  },
  {
   "cell_type": "code",
   "execution_count": 29,
   "metadata": {
    "Collapsed": "false"
   },
   "outputs": [
    {
     "name": "stdout",
     "output_type": "stream",
     "text": [
      "<Task pending coro=<whats_your_name() running at <ipython-input-26-271ca7af892c>:7>>\n"
     ]
    }
   ],
   "source": [
    "task = loop.create_task(coroutine) # create and schedule a task\n",
    "print(task)"
   ]
  },
  {
   "cell_type": "code",
   "execution_count": 30,
   "metadata": {
    "Collapsed": "false"
   },
   "outputs": [
    {
     "name": "stdout",
     "output_type": "stream",
     "text": [
      "What's your name mate?\n",
      "(Is future <Future pending> cancelled? False)\n",
      "(Is future <Future pending> done? False)\n",
      "(Is future <Future finished result='Sam'> done? True)\n",
      "My name is Sam\n"
     ]
    }
   ],
   "source": [
    "await asyncio.sleep(1)"
   ]
  },
  {
   "cell_type": "code",
   "execution_count": 31,
   "metadata": {
    "Collapsed": "false"
   },
   "outputs": [
    {
     "data": {
      "text/plain": [
       "<Task finished coro=<whats_your_name() done, defined at <ipython-input-26-271ca7af892c>:7> result=None>"
      ]
     },
     "execution_count": 31,
     "metadata": {},
     "output_type": "execute_result"
    }
   ],
   "source": [
    "task"
   ]
  },
  {
   "cell_type": "markdown",
   "metadata": {
    "Collapsed": "false"
   },
   "source": [
    "**asyncio.ensure_future vs loop.create_task**\n",
    "\n",
    "We can also create a task via `asyncio.ensure_future`. The main different is `ensure_future` can take a coroutine or a future as an input and will return a task, whereas `loop.create_task` can only take a coroutine. If you know you're getting a coroutine, use `create_task`, otherwise use `ensure_future`. "
   ]
  },
  {
   "cell_type": "code",
   "execution_count": 32,
   "metadata": {
    "Collapsed": "false"
   },
   "outputs": [
    {
     "name": "stdout",
     "output_type": "stream",
     "text": [
      "<Task pending coro=<whats_your_name() running at <ipython-input-26-271ca7af892c>:7>>\n"
     ]
    }
   ],
   "source": [
    "task = asyncio.ensure_future(whats_your_name())\n",
    "print(task)"
   ]
  },
  {
   "cell_type": "code",
   "execution_count": 33,
   "metadata": {
    "Collapsed": "false"
   },
   "outputs": [
    {
     "data": {
      "text/plain": [
       "<Task pending coro=<whats_your_name() running at <ipython-input-26-271ca7af892c>:7>>"
      ]
     },
     "execution_count": 33,
     "metadata": {},
     "output_type": "execute_result"
    },
    {
     "name": "stdout",
     "output_type": "stream",
     "text": [
      "What's your name mate?\n",
      "(Is future <Future pending> cancelled? False)\n",
      "(Is future <Future pending> done? False)\n",
      "(Is future <Future finished result='Sam'> done? True)\n",
      "My name is Sam\n"
     ]
    }
   ],
   "source": [
    "task"
   ]
  },
  {
   "cell_type": "markdown",
   "metadata": {
    "Collapsed": "false"
   },
   "source": [
    "# References"
   ]
  },
  {
   "cell_type": "markdown",
   "metadata": {
    "Collapsed": "false"
   },
   "source": [
    "- Getting started with Asyncio (8mn, 30k views) https://www.youtube.com/watch?v=L3RyxVOLjz8\n",
    "- Nice and simple 15mn intro (views): https://www.youtube.com/watch?v=tSLDcRkgTsY. Part 1 is based on this talk. \n",
    "- Another short intro (30mn, 71k views): https://www.youtube.com/watch?v=BI0asZuqFXM. \n",
    "- The mind bending \"Concurrency from the Ground Up\" talk by the Amazing David Beazley https://www.youtube.com/watch?v=MCs5OvhV9S4. Part 2 is partly based on this. "
   ]
  },
  {
   "cell_type": "code",
   "execution_count": null,
   "metadata": {
    "Collapsed": "false"
   },
   "outputs": [],
   "source": []
  }
 ],
 "metadata": {
  "kernelspec": {
   "display_name": "Python 3",
   "language": "python",
   "name": "python3"
  },
  "language_info": {
   "codemirror_mode": {
    "name": "ipython",
    "version": 3
   },
   "file_extension": ".py",
   "mimetype": "text/x-python",
   "name": "python",
   "nbconvert_exporter": "python",
   "pygments_lexer": "ipython3",
   "version": "3.6.10"
  },
  "toc-autonumbering": true,
  "toc-showcode": false,
  "toc-showmarkdowntxt": false,
  "toc-showtags": false
 },
 "nbformat": 4,
 "nbformat_minor": 4
}
